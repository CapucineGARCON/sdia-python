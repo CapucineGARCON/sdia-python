{
 "cells": [
  {
   "cell_type": "markdown",
   "source": [
    "# Practical session 3 - Practice with numpy\n",
    "\n",
    "Course: [SDIA-Python](https://github.com/guilgautier/sdia-python)\n",
    "\n",
    "Date: 10/06/2021\n",
    "\n",
    "Instructor: [Guillaume Gautier](https://guilgautier.github.io/)\n",
    "\n",
    "Students (pair):\n",
    "- [Capucine GARCON]([link](https://github.com/CapucineGARCON))\n",
    "- [Student 2]([link](https://github.com/username2))"
   ],
   "metadata": {}
  },
  {
   "cell_type": "code",
   "execution_count": 5,
   "source": [
    "%load_ext autoreload\n",
    "%autoreload 2\n",
    "\n",
    "import numpy as np\n",
    "from lab2.utils import get_random_number_generator"
   ],
   "outputs": [],
   "metadata": {}
  },
  {
   "cell_type": "code",
   "execution_count": 6,
   "source": [
    "my_array = np.array([0])\n",
    "print(type(my_array))\n",
    "dir(np.ndarray)"
   ],
   "outputs": [
    {
     "output_type": "stream",
     "name": "stdout",
     "text": [
      "<class 'numpy.ndarray'>\n"
     ]
    },
    {
     "output_type": "execute_result",
     "data": {
      "text/plain": [
       "['T',\n",
       " '__abs__',\n",
       " '__add__',\n",
       " '__and__',\n",
       " '__array__',\n",
       " '__array_finalize__',\n",
       " '__array_function__',\n",
       " '__array_interface__',\n",
       " '__array_prepare__',\n",
       " '__array_priority__',\n",
       " '__array_struct__',\n",
       " '__array_ufunc__',\n",
       " '__array_wrap__',\n",
       " '__bool__',\n",
       " '__class__',\n",
       " '__complex__',\n",
       " '__contains__',\n",
       " '__copy__',\n",
       " '__deepcopy__',\n",
       " '__delattr__',\n",
       " '__delitem__',\n",
       " '__dir__',\n",
       " '__divmod__',\n",
       " '__doc__',\n",
       " '__eq__',\n",
       " '__float__',\n",
       " '__floordiv__',\n",
       " '__format__',\n",
       " '__ge__',\n",
       " '__getattribute__',\n",
       " '__getitem__',\n",
       " '__gt__',\n",
       " '__hash__',\n",
       " '__iadd__',\n",
       " '__iand__',\n",
       " '__ifloordiv__',\n",
       " '__ilshift__',\n",
       " '__imatmul__',\n",
       " '__imod__',\n",
       " '__imul__',\n",
       " '__index__',\n",
       " '__init__',\n",
       " '__init_subclass__',\n",
       " '__int__',\n",
       " '__invert__',\n",
       " '__ior__',\n",
       " '__ipow__',\n",
       " '__irshift__',\n",
       " '__isub__',\n",
       " '__iter__',\n",
       " '__itruediv__',\n",
       " '__ixor__',\n",
       " '__le__',\n",
       " '__len__',\n",
       " '__lshift__',\n",
       " '__lt__',\n",
       " '__matmul__',\n",
       " '__mod__',\n",
       " '__mul__',\n",
       " '__ne__',\n",
       " '__neg__',\n",
       " '__new__',\n",
       " '__or__',\n",
       " '__pos__',\n",
       " '__pow__',\n",
       " '__radd__',\n",
       " '__rand__',\n",
       " '__rdivmod__',\n",
       " '__reduce__',\n",
       " '__reduce_ex__',\n",
       " '__repr__',\n",
       " '__rfloordiv__',\n",
       " '__rlshift__',\n",
       " '__rmatmul__',\n",
       " '__rmod__',\n",
       " '__rmul__',\n",
       " '__ror__',\n",
       " '__rpow__',\n",
       " '__rrshift__',\n",
       " '__rshift__',\n",
       " '__rsub__',\n",
       " '__rtruediv__',\n",
       " '__rxor__',\n",
       " '__setattr__',\n",
       " '__setitem__',\n",
       " '__setstate__',\n",
       " '__sizeof__',\n",
       " '__str__',\n",
       " '__sub__',\n",
       " '__subclasshook__',\n",
       " '__truediv__',\n",
       " '__xor__',\n",
       " 'all',\n",
       " 'any',\n",
       " 'argmax',\n",
       " 'argmin',\n",
       " 'argpartition',\n",
       " 'argsort',\n",
       " 'astype',\n",
       " 'base',\n",
       " 'byteswap',\n",
       " 'choose',\n",
       " 'clip',\n",
       " 'compress',\n",
       " 'conj',\n",
       " 'conjugate',\n",
       " 'copy',\n",
       " 'ctypes',\n",
       " 'cumprod',\n",
       " 'cumsum',\n",
       " 'data',\n",
       " 'diagonal',\n",
       " 'dot',\n",
       " 'dtype',\n",
       " 'dump',\n",
       " 'dumps',\n",
       " 'fill',\n",
       " 'flags',\n",
       " 'flat',\n",
       " 'flatten',\n",
       " 'getfield',\n",
       " 'imag',\n",
       " 'item',\n",
       " 'itemset',\n",
       " 'itemsize',\n",
       " 'max',\n",
       " 'mean',\n",
       " 'min',\n",
       " 'nbytes',\n",
       " 'ndim',\n",
       " 'newbyteorder',\n",
       " 'nonzero',\n",
       " 'partition',\n",
       " 'prod',\n",
       " 'ptp',\n",
       " 'put',\n",
       " 'ravel',\n",
       " 'real',\n",
       " 'repeat',\n",
       " 'reshape',\n",
       " 'resize',\n",
       " 'round',\n",
       " 'searchsorted',\n",
       " 'setfield',\n",
       " 'setflags',\n",
       " 'shape',\n",
       " 'size',\n",
       " 'sort',\n",
       " 'squeeze',\n",
       " 'std',\n",
       " 'strides',\n",
       " 'sum',\n",
       " 'swapaxes',\n",
       " 'take',\n",
       " 'tobytes',\n",
       " 'tofile',\n",
       " 'tolist',\n",
       " 'tostring',\n",
       " 'trace',\n",
       " 'transpose',\n",
       " 'var',\n",
       " 'view']"
      ]
     },
     "metadata": {},
     "execution_count": 6
    }
   ],
   "metadata": {}
  },
  {
   "cell_type": "markdown",
   "source": [
    "Propose at leat 2 ways to create an integer vector of size 100 made of 1s"
   ],
   "metadata": {}
  },
  {
   "cell_type": "code",
   "execution_count": 89,
   "source": [
    "A1 = np.ones((1, 100))\n",
    "A2 = np.array([1 for i in range (100)])\n",
    "\n",
    "A1, A2\n"
   ],
   "outputs": [
    {
     "output_type": "execute_result",
     "data": {
      "text/plain": [
       "(array([[1., 1., 1., 1., 1., 1., 1., 1., 1., 1., 1., 1., 1., 1., 1., 1.,\n",
       "         1., 1., 1., 1., 1., 1., 1., 1., 1., 1., 1., 1., 1., 1., 1., 1.,\n",
       "         1., 1., 1., 1., 1., 1., 1., 1., 1., 1., 1., 1., 1., 1., 1., 1.,\n",
       "         1., 1., 1., 1., 1., 1., 1., 1., 1., 1., 1., 1., 1., 1., 1., 1.,\n",
       "         1., 1., 1., 1., 1., 1., 1., 1., 1., 1., 1., 1., 1., 1., 1., 1.,\n",
       "         1., 1., 1., 1., 1., 1., 1., 1., 1., 1., 1., 1., 1., 1., 1., 1.,\n",
       "         1., 1., 1., 1.]]),\n",
       " array([1, 1, 1, 1, 1, 1, 1, 1, 1, 1, 1, 1, 1, 1, 1, 1, 1, 1, 1, 1, 1, 1,\n",
       "        1, 1, 1, 1, 1, 1, 1, 1, 1, 1, 1, 1, 1, 1, 1, 1, 1, 1, 1, 1, 1, 1,\n",
       "        1, 1, 1, 1, 1, 1, 1, 1, 1, 1, 1, 1, 1, 1, 1, 1, 1, 1, 1, 1, 1, 1,\n",
       "        1, 1, 1, 1, 1, 1, 1, 1, 1, 1, 1, 1, 1, 1, 1, 1, 1, 1, 1, 1, 1, 1,\n",
       "        1, 1, 1, 1, 1, 1, 1, 1, 1, 1, 1, 1]))"
      ]
     },
     "metadata": {},
     "execution_count": 89
    }
   ],
   "metadata": {}
  },
  {
   "cell_type": "markdown",
   "source": [
    "Create a vector with values ranging from 10 to 49"
   ],
   "metadata": {}
  },
  {
   "cell_type": "code",
   "execution_count": 73,
   "source": [
    "B = np.arange(10, 50)\n",
    "B"
   ],
   "outputs": [
    {
     "output_type": "execute_result",
     "data": {
      "text/plain": [
       "array([10, 11, 12, 13, 14, 15, 16, 17, 18, 19, 20, 21, 22, 23, 24, 25, 26,\n",
       "       27, 28, 29, 30, 31, 32, 33, 34, 35, 36, 37, 38, 39, 40, 41, 42, 43,\n",
       "       44, 45, 46, 47, 48, 49])"
      ]
     },
     "metadata": {},
     "execution_count": 73
    }
   ],
   "metadata": {}
  },
  {
   "cell_type": "markdown",
   "source": [
    "Propose a way to construct the vector $(0.0, 0.2, 0.4, 0.6, 0.8)$"
   ],
   "metadata": {}
  },
  {
   "cell_type": "code",
   "execution_count": 76,
   "source": [
    "C = np.arange(0, 0.9, 0.2)\n",
    "C"
   ],
   "outputs": [
    {
     "output_type": "execute_result",
     "data": {
      "text/plain": [
       "array([0. , 0.2, 0.4, 0.6, 0.8])"
      ]
     },
     "metadata": {},
     "execution_count": 76
    }
   ],
   "metadata": {}
  },
  {
   "cell_type": "markdown",
   "source": [
    "Convert a float array into an integer array in place"
   ],
   "metadata": {}
  },
  {
   "cell_type": "code",
   "execution_count": 91,
   "source": [
    "# Convertion of a float array into an integer array\n",
    "C1 = np.arange(0, 0.9, 0.2)\n",
    "C2 = C1.astype(int)\n",
    "C1, C2\n"
   ],
   "outputs": [
    {
     "output_type": "execute_result",
     "data": {
      "text/plain": [
       "(array([0. , 0.2, 0.4, 0.6, 0.8]), array([0, 0, 0, 0, 0]))"
      ]
     },
     "metadata": {},
     "execution_count": 91
    }
   ],
   "metadata": {}
  },
  {
   "cell_type": "markdown",
   "source": [
    "Given a boolean array\n",
    "\n",
    "- return the indices that are True \n",
    "- negate the array inplace "
   ],
   "metadata": {}
  },
  {
   "cell_type": "code",
   "execution_count": 142,
   "source": [
    "M = np.array([[True, True, False, True, False, False]])\n",
    "\n",
    "# Two methods to return the indices that are True \n",
    "j = np.where(M == True)\n",
    "i =np.flatnonzero(M == True)\n",
    "\n",
    "\n",
    "# Negation of M: two methods \n",
    "N = ~M\n",
    "N2 = np.invert(M)\n"
   ],
   "outputs": [],
   "metadata": {}
  },
  {
   "cell_type": "markdown",
   "source": [
    "Given 2 vectors $u, v$, propose at least\n",
    "\n",
    "- 2 ways to compute the inner product $v^{\\top} u$ (here they must have the same size)\n",
    "- 2 ways to compute the outer product matrix $u v^{\\top}$\n",
    "- 2 ways to compute the outer sum matrix \"$M = u + v^{\\top}$\", where $M_{ij} = u_i + v_j$"
   ],
   "metadata": {}
  },
  {
   "cell_type": "code",
   "execution_count": 102,
   "source": [
    "# Inner product\n",
    "u = np.array([1, 2, 3])\n",
    "v = np.array([2, 2, 1])\n",
    "\n",
    "np.dot(u,v), u @ v\n",
    "\n",
    "\n"
   ],
   "outputs": [
    {
     "output_type": "execute_result",
     "data": {
      "text/plain": [
       "(9, 9)"
      ]
     },
     "metadata": {},
     "execution_count": 102
    }
   ],
   "metadata": {}
  },
  {
   "cell_type": "code",
   "execution_count": 101,
   "source": [
    "# Outer product \n",
    "np.outer(u,v)"
   ],
   "outputs": [
    {
     "output_type": "execute_result",
     "data": {
      "text/plain": [
       "array([[2, 2, 1],\n",
       "       [4, 4, 2],\n",
       "       [6, 6, 3]])"
      ]
     },
     "metadata": {},
     "execution_count": 101
    }
   ],
   "metadata": {}
  },
  {
   "cell_type": "code",
   "execution_count": 103,
   "source": [
    "# Outer sum matrix \n",
    "\n",
    "np.add.outer(u,v)"
   ],
   "outputs": [
    {
     "output_type": "execute_result",
     "data": {
      "text/plain": [
       "array([[3, 3, 2],\n",
       "       [4, 4, 3],\n",
       "       [5, 5, 4]])"
      ]
     },
     "metadata": {},
     "execution_count": 103
    }
   ],
   "metadata": {}
  },
  {
   "cell_type": "markdown",
   "source": [
    "Given the following matrix\n",
    "\n",
    "$$\n",
    "M = \n",
    "\\begin{pmatrix}\n",
    "    0 & 1 & 2 \\\\\n",
    "    3 & 4 & 5 \\\\\n",
    "    6 & 7 & 8 \\\\\n",
    "\\end{pmatrix}\n",
    "$$\n",
    "\n",
    "- Create $M$ using as a list of lists and access the element in the middle\n",
    "- Propose at least 2 ways to create $M$ using numpy and access the element in the middle\n",
    "- Swap its first and second row\n",
    "- Propose at least 3 ways to extract the submatrix $\\begin{pmatrix}4 & 5 \\\\7 & 8 \\\\\\end{pmatrix}$\n",
    "- Propose at least 2 ways to extract the diagonal of $M$\n",
    "- Propose at least 2 ways to compute $M^3$\n",
    "- Compute $v^{\\top} M$, resp. $M N$ for a vector, resp. a matrix of your choice. \n",
    "- Propose 2 ways to \"vectorize\" the matrix, i.e., transform it into\n",
    "  - $(0, 1, 2, 3, 4, 5, 6, 7, 8)$\n",
    "  - $(0, 3, 6, 1, 4, 7, 2, 5, 8)$\n",
    "- Consider $v = (1, 2 , 3)$, compute the\n",
    "  - row-wise multiplication of $M$ by $v$ ($M_{i\\cdot}$ is multiplied by $v_i$)\n",
    "  - column-wise multiplication of $M$ by $v$ ($M_{\\cdot j}$ is multiplied by $v_i$)"
   ],
   "metadata": {}
  },
  {
   "cell_type": "code",
   "execution_count": 3,
   "source": [
    "# Creation of M using a list of list \n",
    "\n",
    "M = [[0, 1, 2], [3, 4, 5], [6, 7, 8]]\n",
    "\n",
    "M[1][1]"
   ],
   "outputs": [
    {
     "output_type": "execute_result",
     "data": {
      "text/plain": [
       "4"
      ]
     },
     "metadata": {},
     "execution_count": 3
    }
   ],
   "metadata": {}
  },
  {
   "cell_type": "code",
   "execution_count": 104,
   "source": [
    "# Creation of M using numpy: 3 methods \n",
    "M = np.array([[0, 1, 2], [3, 4, 5], [6, 7, 8]])\n",
    "\n",
    "N = np.arange(0, 9)\n",
    "N.shape = (3, 3)\n",
    "\n",
    "O = np.matrix('[0, 1, 2; 3, 4, 5; 6, 7, 8]')\n",
    "M[1][1]\n",
    "\n",
    "\n"
   ],
   "outputs": [
    {
     "output_type": "execute_result",
     "data": {
      "text/plain": [
       "4"
      ]
     },
     "metadata": {},
     "execution_count": 104
    }
   ],
   "metadata": {}
  },
  {
   "cell_type": "code",
   "execution_count": 21,
   "source": [
    "# Swap first and second raw\n",
    "\n",
    "M[0], M[1] = M[1], M[0]\n",
    "M"
   ],
   "outputs": [
    {
     "output_type": "execute_result",
     "data": {
      "text/plain": [
       "array([[3, 4, 5],\n",
       "       [3, 4, 5],\n",
       "       [6, 7, 8]])"
      ]
     },
     "metadata": {},
     "execution_count": 21
    }
   ],
   "metadata": {}
  },
  {
   "cell_type": "code",
   "execution_count": 25,
   "source": [
    "# Extraction of the submatrix\n",
    "\n",
    "M[1:3, 1:3], "
   ],
   "outputs": [
    {
     "output_type": "execute_result",
     "data": {
      "text/plain": [
       "array([[4, 5],\n",
       "       [7, 8]])"
      ]
     },
     "metadata": {},
     "execution_count": 25
    }
   ],
   "metadata": {}
  },
  {
   "cell_type": "code",
   "execution_count": 108,
   "source": [
    "# Extraction of the diagonal\n",
    "\n",
    "np.diag(M), M.diagonal(), [M[i][i] for i in range(len(M))]\n",
    "\n"
   ],
   "outputs": [
    {
     "output_type": "execute_result",
     "data": {
      "text/plain": [
       "(array([0, 4, 8]), array([0, 4, 8]), [0, 4, 8])"
      ]
     },
     "metadata": {},
     "execution_count": 108
    }
   ],
   "metadata": {}
  },
  {
   "cell_type": "code",
   "execution_count": 109,
   "source": [
    "# Calculation of M^3\n",
    "\n",
    "M_cube1 = np.dot(M,np.dot(M,M))\n",
    "M_cube2= np.linalg.matrix_power(M, 3)\n",
    "M_cube3 = M @ M @ M\n",
    "M_cube1, M_cube2, M_cube3"
   ],
   "outputs": [
    {
     "output_type": "execute_result",
     "data": {
      "text/plain": [
       "(array([[ 180,  234,  288],\n",
       "        [ 558,  720,  882],\n",
       "        [ 936, 1206, 1476]]),\n",
       " array([[ 180,  234,  288],\n",
       "        [ 558,  720,  882],\n",
       "        [ 936, 1206, 1476]]),\n",
       " array([[ 180,  234,  288],\n",
       "        [ 558,  720,  882],\n",
       "        [ 936, 1206, 1476]]))"
      ]
     },
     "metadata": {},
     "execution_count": 109
    }
   ],
   "metadata": {}
  },
  {
   "cell_type": "code",
   "execution_count": 49,
   "source": [
    "# Calculation of vTM\n",
    "M = [[0, 1, 2], [3, 4, 5], [6, 7, 8]]\n",
    "v = np.array([1, 2, 3])\n",
    "np.dot(np.transpose(v), M)"
   ],
   "outputs": [
    {
     "output_type": "execute_result",
     "data": {
      "text/plain": [
       "array([24, 30, 36])"
      ]
     },
     "metadata": {},
     "execution_count": 49
    }
   ],
   "metadata": {}
  },
  {
   "cell_type": "code",
   "execution_count": 47,
   "source": [
    "# Vectorisation of the matrix M\n",
    "M = np.array([[0, 1, 2], [3, 4, 5], [6, 7, 8]])\n",
    "\n",
    "M_vect = tuple(np.ravel(M, order ='C'))\n",
    "M_vect2 = tuple(np.ravel(M, order='F'))\n",
    "\n",
    "M_vect, M_vect2\n",
    "\n",
    "\n",
    "\n"
   ],
   "outputs": [
    {
     "output_type": "execute_result",
     "data": {
      "text/plain": [
       "((0, 1, 2, 3, 4, 5, 6, 7, 8), (0, 3, 6, 1, 4, 7, 2, 5, 8))"
      ]
     },
     "metadata": {},
     "execution_count": 47
    }
   ],
   "metadata": {}
  },
  {
   "cell_type": "code",
   "execution_count": 34,
   "source": [
    "v = np.array([1, 2, 3])\n",
    "np.dot(v, M), np.dot(M,v)"
   ],
   "outputs": [
    {
     "output_type": "execute_result",
     "data": {
      "text/plain": [
       "(array([24, 30, 36]), array([ 8, 26, 44]))"
      ]
     },
     "metadata": {},
     "execution_count": 34
    }
   ],
   "metadata": {}
  },
  {
   "cell_type": "markdown",
   "source": [
    "Write a function `is_symmetric` that checks whether a given n x n matrix is symmetric, and provide an example"
   ],
   "metadata": {}
  },
  {
   "cell_type": "code",
   "execution_count": 57,
   "source": [
    "# Check if the matrix is symmetric or not\n",
    "def is_symmetric(M):\n",
    "    return(np.all(M == np.transpose(M)))\n",
    "\n",
    "\n",
    "is_symmetric(M = np.array([[0, 1, 2], [3, 4, 5], [6, 7, 8]])), is_symmetric(np.array([[1, 2, 3],[2, 0, 2], [3, 2, 1]]))\n",
    "    "
   ],
   "outputs": [
    {
     "output_type": "execute_result",
     "data": {
      "text/plain": [
       "(False, True)"
      ]
     },
     "metadata": {},
     "execution_count": 57
    }
   ],
   "metadata": {}
  },
  {
   "cell_type": "markdown",
   "source": [
    "## Random\n",
    "\n",
    "REQUIREMENT: USE THE FUNCTION `get_random_number_generator` as previously used in Lab 2."
   ],
   "metadata": {}
  },
  {
   "cell_type": "markdown",
   "source": [
    "Consider the Bernoulli(0.4) distribution\n",
    "\n",
    "- Propose at least 2 ways to generate n=1000 samples from it\n",
    "- Compute the empirical mean and variance"
   ],
   "metadata": {}
  },
  {
   "cell_type": "code",
   "execution_count": 114,
   "source": [
    "# Generation of 1000 samples\n",
    "\n",
    "rng = get_random_number_generator(0)\n",
    "first_way = rng.binomial(1, 0.4, 1000)\n"
   ],
   "outputs": [],
   "metadata": {}
  },
  {
   "cell_type": "code",
   "execution_count": 117,
   "source": [
    "# Calculation of mean and variance\n",
    "\n",
    "np.mean(first_way), np.var(first_way)"
   ],
   "outputs": [
    {
     "output_type": "execute_result",
     "data": {
      "text/plain": [
       "(0.419, 0.243439)"
      ]
     },
     "metadata": {},
     "execution_count": 117
    }
   ],
   "metadata": {}
  },
  {
   "cell_type": "markdown",
   "source": [
    "Consider a random matrix of size $50 \\times 100$, filled with i.i.d. standard Gaussian variables, compute\n",
    "\n",
    "- the absolute value of each entry\n",
    "- the sum of each row\n",
    "- the sum of each colomn \n",
    "- the (euclidean) norm of each row\n",
    "- the (euclidean) norm of each column"
   ],
   "metadata": {}
  },
  {
   "cell_type": "code",
   "execution_count": 129,
   "source": [
    "# Computation of the Gaussian Matrix of size 50x100\n",
    "G = rng.normal(size = (50, 100))\n",
    "\n",
    "# Absolute value of the Gaussian Matrix\n",
    "G_absolute = abs(G)\n",
    "\n",
    "#Sum of each row \n",
    "G_sum_rows = G.sum(axis=1)\n",
    "\n",
    "# Sum of each colomn\n",
    "G_sum_colomn = G.sum(axis=0)\n",
    "\n",
    "# Norm of each row\n",
    "G_norm_row = np.linalg.norm(G, axis=1)\n",
    "\n",
    "# Norm of each colomn\n",
    "G_norm_colomn = np.linalg.norm(G, axis = 0)\n"
   ],
   "outputs": [],
   "metadata": {}
  },
  {
   "cell_type": "markdown",
   "source": [],
   "metadata": {}
  }
 ],
 "metadata": {
  "kernelspec": {
   "name": "python3",
   "display_name": "Python 3.8.11 64-bit ('sdia-python': conda)"
  },
  "language_info": {
   "codemirror_mode": {
    "name": "ipython",
    "version": 3
   },
   "file_extension": ".py",
   "mimetype": "text/x-python",
   "name": "python",
   "nbconvert_exporter": "python",
   "pygments_lexer": "ipython3",
   "version": "3.8.11"
  },
  "toc": {
   "base_numbering": 1,
   "nav_menu": {},
   "number_sections": false,
   "sideBar": true,
   "skip_h1_title": true,
   "title_cell": "Lecture Outline",
   "title_sidebar": "Contents",
   "toc_cell": true,
   "toc_position": {},
   "toc_section_display": true,
   "toc_window_display": true
  },
  "interpreter": {
   "hash": "8460669a8a8aceb5bfda6333a5aefb19a5b16d9fc1ad275b29b40e00755c98eb"
  }
 },
 "nbformat": 4,
 "nbformat_minor": 4
}