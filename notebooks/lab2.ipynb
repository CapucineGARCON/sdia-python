{
 "cells": [
  {
   "cell_type": "code",
   "execution_count": 8,
   "source": [
    "%load_ext autoreload\n",
    "%autoreload 2"
   ],
   "outputs": [],
   "metadata": {}
  },
  {
   "cell_type": "code",
   "execution_count": 18,
   "source": [
    "from lab2.utils import get_random_number_generator\n",
    "import numpy as np\n",
    "\n",
    "\n",
    "class BoxWindow:\n",
    "    \"\"\"La classe BoxWindow crée une\"\"\"\n",
    "\n",
    "    def __init__(self, bounds):\n",
    "        \"\"\"La méthode init prend en argument les dimensions et crée une box window.\n",
    "        On crée l'attribut bounds de la classe BoxWindow.\n",
    "\n",
    "        Args:\n",
    "            args ([type]): [description]\n",
    "        \"\"\"\n",
    "        \"\"\"On pourrait vérifier que bounds est de la forme nx2\"\"\"\n",
    "\n",
    "        self.bounds = np.array(bounds)\n",
    "\n",
    "    def __str__(self):\n",
    "        \"\"\"BoxWindow: :math:`[a_1, b_1] \\times [a_2, b_2] \\times \\cdots`\n",
    "\n",
    "        Returns:\n",
    "            [type]: [description]\n",
    "        \"\"\"\n",
    "        b = \"BoxWindow: \"\n",
    "        for i in range(self.bounds.shape[0]):\n",
    "            b += str(list(self.bounds[i])) + \" x \"\n",
    "        return b[:-3]\n",
    "\n",
    "    def shape(self):\n",
    "        \"\"\"Méthode qui permet de connaître la dimension de la box. La dimension est la shape de l'array. Dimension de bounds * 2.\n",
    "        Le premier return permet d'avoir la première dimension.\"\"\"\n",
    "        return f\"{self.bounds.shape[0]} x 2\"\n",
    "\n",
    "    def indicator_function(self, point):\n",
    "        \"\"\"Point in box ? \"\"\"\n",
    "        \"\"\" On pourrait vérifier que le point est à la bonne dimension, il doit être de la même taille que les bounds. On peut le faire avec un assert\"\"\"\n",
    "\n",
    "        \"\"\" on peut itérer sur l'objet directement, pas de range(len(...))\"\"\"\n",
    "        a = True\n",
    "        for i in range(self.bounds.shape[0]):\n",
    "            if (self.bounds[i, 0] <= point[i]) and (point[i] <= self.bounds[i, 1]):\n",
    "                a == True\n",
    "            else:\n",
    "                return False\n",
    "        return a\n",
    "\n",
    "    def dimension(self):\n",
    "        \"\"\"\"\"\"\n",
    "        return {self.bounds.shape[0]}\n",
    "\n",
    "    def lenght(self):\n",
    "        \"This method return the lenght for each dimension of the BoxWindow.\"\n",
    "\n",
    "        l = []\n",
    "        for i in range(self.bounds.shape[0]):\n",
    "            l = l + [self.bounds[i, 1] - self.bounds[i, 0]]\n",
    "        return l\n",
    "\n",
    "    def volume(self):\n",
    "        \"\"\" It returns the lenght if the BoxWindow has 1 dimension, an area if 2 dimensions and the volume for 3 dimensions\"\"\"\n",
    "\n",
    "        Volume = 1\n",
    "        for i in range(self.bounds.shape[0]):\n",
    "            Volume = Volume * self.lenght()[i]\n",
    "        return (\"Volume =\" + str(Volume))\n",
    "\n",
    "    def indicator_functionseveral(self, args):\n",
    "        \"\"\" Fonction indicatrice d'un ensemble, on veut avoir en entrée plusieurs points et que la fonction nous renvoie une liste avec True, False, True etc , si le point est dans la box ou non.\n",
    "\n",
    "        Args:\n",
    "            args ([type]): [description]\n",
    "        \"\"\"\n",
    "        a = []\n",
    "        for i in range(len(args)):\n",
    "            a = a + [self.contains(args[i])]\n",
    "        return a\n",
    "\n",
    "\n",
    "    def rand(self, n=1, rng=None):\n",
    "        \"\"\"Generate ``n`` points uniformly at random inside the :py:class:`BoxWindow`.\n",
    "\n",
    "        Args:\n",
    "            n (int, optional): [description]. Defaults to 1.\n",
    "            rng ([type], optional): [description]. Defaults to None.\n",
    "        \"\"\"\n",
    "        rng = get_random_number_generator(rng)\n",
    "        return\n"
   ],
   "outputs": [],
   "metadata": {}
  },
  {
   "cell_type": "code",
   "execution_count": 21,
   "source": [
    "box.volume()"
   ],
   "outputs": [
    {
     "output_type": "execute_result",
     "data": {
      "text/plain": [
       "'Volume =1'"
      ]
     },
     "metadata": {},
     "execution_count": 21
    }
   ],
   "metadata": {}
  },
  {
   "cell_type": "code",
   "execution_count": 14,
   "source": [
    "box.rand(2)"
   ],
   "outputs": [],
   "metadata": {}
  },
  {
   "cell_type": "code",
   "execution_count": 19,
   "source": [
    "box = BoxWindow([[1, 2], [1, 2], [1, 2], [1,2]])"
   ],
   "outputs": [],
   "metadata": {}
  },
  {
   "cell_type": "code",
   "execution_count": 22,
   "source": [
    "print(box)"
   ],
   "outputs": [
    {
     "output_type": "stream",
     "name": "stdout",
     "text": [
      "BoxWindow: [1, 2] x [1, 2] x [1, 2] x [1, 2]\n"
     ]
    }
   ],
   "metadata": {}
  }
 ],
 "metadata": {
  "orig_nbformat": 4,
  "language_info": {
   "name": "python",
   "version": "3.8.11",
   "mimetype": "text/x-python",
   "codemirror_mode": {
    "name": "ipython",
    "version": 3
   },
   "pygments_lexer": "ipython3",
   "nbconvert_exporter": "python",
   "file_extension": ".py"
  },
  "kernelspec": {
   "name": "python3",
   "display_name": "Python 3.8.11 64-bit ('sdia-python': conda)"
  },
  "interpreter": {
   "hash": "8460669a8a8aceb5bfda6333a5aefb19a5b16d9fc1ad275b29b40e00755c98eb"
  }
 },
 "nbformat": 4,
 "nbformat_minor": 2
}